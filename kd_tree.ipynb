{
 "cells": [
  {
   "cell_type": "code",
   "execution_count": 8,
   "metadata": {},
   "outputs": [
    {
     "ename": "ModuleNotFoundError",
     "evalue": "No module named 'face_recognition'",
     "output_type": "error",
     "traceback": [
      "\u001b[1;31m---------------------------------------------------------------------------\u001b[0m",
      "\u001b[1;31mModuleNotFoundError\u001b[0m                       Traceback (most recent call last)",
      "\u001b[1;32mUbuntu\\home\\raiko\\Tesis\\Tesis_p2_KNN_Classifier\\kd_tree.ipynb Cell 1'\u001b[0m in \u001b[0;36m<cell line: 3>\u001b[1;34m()\u001b[0m\n\u001b[0;32m      <a href='vscode-notebook-cell://wsl%24/Ubuntu/home/raiko/Tesis/Tesis_p2_KNN_Classifier/kd_tree.ipynb#ch0000000?line=0'>1</a>\u001b[0m \u001b[39mimport\u001b[39;00m \u001b[39mnumpy\u001b[39;00m \u001b[39mas\u001b[39;00m \u001b[39mnp\u001b[39;00m\n\u001b[0;32m      <a href='vscode-notebook-cell://wsl%24/Ubuntu/home/raiko/Tesis/Tesis_p2_KNN_Classifier/kd_tree.ipynb#ch0000000?line=1'>2</a>\u001b[0m \u001b[39mfrom\u001b[39;00m \u001b[39mscipy\u001b[39;00m\u001b[39m.\u001b[39;00m\u001b[39mspatial\u001b[39;00m \u001b[39mimport\u001b[39;00m KDTree\n\u001b[1;32m----> <a href='vscode-notebook-cell://wsl%24/Ubuntu/home/raiko/Tesis/Tesis_p2_KNN_Classifier/kd_tree.ipynb#ch0000000?line=2'>3</a>\u001b[0m \u001b[39mimport\u001b[39;00m \u001b[39mface_recognition\u001b[39;00m\n\u001b[0;32m      <a href='vscode-notebook-cell://wsl%24/Ubuntu/home/raiko/Tesis/Tesis_p2_KNN_Classifier/kd_tree.ipynb#ch0000000?line=3'>4</a>\u001b[0m \u001b[39mimport\u001b[39;00m \u001b[39mpandas\u001b[39;00m \u001b[39mas\u001b[39;00m \u001b[39mpd\u001b[39;00m\n\u001b[0;32m      <a href='vscode-notebook-cell://wsl%24/Ubuntu/home/raiko/Tesis/Tesis_p2_KNN_Classifier/kd_tree.ipynb#ch0000000?line=4'>5</a>\u001b[0m \u001b[39mimport\u001b[39;00m \u001b[39mpickle\u001b[39;00m\n",
      "\u001b[1;31mModuleNotFoundError\u001b[0m: No module named 'face_recognition'"
     ]
    }
   ],
   "source": [
    "import numpy as np\n",
    "from scipy.spatial import KDTree\n",
    "import face_recognition\n",
    "import pandas as pd\n",
    "import pickle\n",
    "import time\n",
    "\n",
    "dataset_path = \"./data/dataset_PCA_99_90.csv\"\n",
    "scaler_path = \"./bin/scaler_PCA_99_90.dat\"\n",
    "pca_path = \"./bin/pca_PCA_99_90.dat\"\n",
    "ncomponents_path = \"./bin/ncomponents_PCA_99_90.dat\"\n",
    "\n",
    "df = pd.read_csv(dataset_path)\n",
    "scaler = pickle.load(open(scaler_path, \"rb\"))\n",
    "pca = pickle.load(open(pca_path, \"rb\"))\n",
    "ncomponents = pickle.load(open(ncomponents_path, \"rb\"))\n",
    "\n",
    "print(\"Completed\")\n",
    "df.tail(5)"
   ]
  },
  {
   "cell_type": "code",
   "execution_count": null,
   "metadata": {},
   "outputs": [
    {
     "data": {
      "text/html": [
       "<div>\n",
       "<style scoped>\n",
       "    .dataframe tbody tr th:only-of-type {\n",
       "        vertical-align: middle;\n",
       "    }\n",
       "\n",
       "    .dataframe tbody tr th {\n",
       "        vertical-align: top;\n",
       "    }\n",
       "\n",
       "    .dataframe thead th {\n",
       "        text-align: right;\n",
       "    }\n",
       "</style>\n",
       "<table border=\"1\" class=\"dataframe\">\n",
       "  <thead>\n",
       "    <tr style=\"text-align: right;\">\n",
       "      <th></th>\n",
       "      <th>path</th>\n",
       "    </tr>\n",
       "  </thead>\n",
       "  <tbody>\n",
       "    <tr>\n",
       "      <th>81</th>\n",
       "      <td>./DataSet/90/S8_2.jpg</td>\n",
       "    </tr>\n",
       "    <tr>\n",
       "      <th>82</th>\n",
       "      <td>./DataSet/90/S8_8.jpg</td>\n",
       "    </tr>\n",
       "    <tr>\n",
       "      <th>83</th>\n",
       "      <td>./DataSet/90/S9_2.jpg</td>\n",
       "    </tr>\n",
       "    <tr>\n",
       "      <th>84</th>\n",
       "      <td>./DataSet/90/S9_6.jpg</td>\n",
       "    </tr>\n",
       "    <tr>\n",
       "      <th>85</th>\n",
       "      <td>./DataSet/90/S9_8.jpg</td>\n",
       "    </tr>\n",
       "  </tbody>\n",
       "</table>\n",
       "</div>"
      ],
      "text/plain": [
       "                     path\n",
       "81  ./DataSet/90/S8_2.jpg\n",
       "82  ./DataSet/90/S8_8.jpg\n",
       "83  ./DataSet/90/S9_2.jpg\n",
       "84  ./DataSet/90/S9_6.jpg\n",
       "85  ./DataSet/90/S9_8.jpg"
      ]
     },
     "execution_count": 6,
     "metadata": {},
     "output_type": "execute_result"
    }
   ],
   "source": [
    "features = [str(i) for i in range(1, ncomponents+1)]\n",
    "x = df.loc[:, features]\n",
    "y = df.loc[:, [\"path\"]]\n",
    "y.tail(5)"
   ]
  },
  {
   "cell_type": "code",
   "execution_count": null,
   "metadata": {},
   "outputs": [],
   "source": [
    "tree = KDTree(x)"
   ]
  },
  {
   "cell_type": "code",
   "execution_count": null,
   "metadata": {},
   "outputs": [],
   "source": [
    "\n",
    "def generate_df(x):\n",
    "    return pd.DataFrame(data=x, columns = [str(i) for i in range(1, 129)])\n",
    "\n",
    "def generate_point(v):\n",
    "    return tuple(np.concatenate([v, v], axis = None))\n",
    "\n",
    "def parser_image(image_path):\n",
    "    picture = face_recognition.load_image_file(image_path)    \n",
    "    all_face_encodings = face_recognition.face_encodings(picture)\n",
    "    x = generate_df(all_face_encodings)\n",
    "    x_scaled = scaler.transform(x)\n",
    "    x_pca = pca.transform(x_scaled)\n",
    "    return x_pca[0]\n",
    "\n",
    "\n"
   ]
  },
  {
   "cell_type": "code",
   "execution_count": null,
   "metadata": {},
   "outputs": [],
   "source": [
    "#Testing Data\n",
    "path_1 = \"./DataSet/10/\"\n",
    "image_path = path_1 + \"S10_8.jpg\"\n",
    "\n",
    "image = parser_image(image_path)\n",
    "\n",
    "start = time.perf_counter()\n",
    "dd, ii = tree.query([image],k=1)\n",
    "end = time.perf_counter()\n",
    "print(dd, ii, sep='\\n')\n"
   ]
  }
 ],
 "metadata": {
  "kernelspec": {
   "display_name": "Python 3.10.5 64-bit (windows store)",
   "language": "python",
   "name": "python3"
  },
  "language_info": {
   "codemirror_mode": {
    "name": "ipython",
    "version": 3
   },
   "file_extension": ".py",
   "mimetype": "text/x-python",
   "name": "python",
   "nbconvert_exporter": "python",
   "pygments_lexer": "ipython3",
   "version": "3.10.5"
  },
  "orig_nbformat": 4,
  "vscode": {
   "interpreter": {
    "hash": "4e5662ea2e9d2db0985c0ff53e0a9dd23ea800f220838b5295fc2acdfcf23b6b"
   }
  }
 },
 "nbformat": 4,
 "nbformat_minor": 2
}
